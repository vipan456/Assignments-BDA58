{
 "cells": [
  {
   "cell_type": "markdown",
   "id": "4c5b9a5f-7b2b-4ce0-9574-5c2fab0c5d3f",
   "metadata": {},
   "source": [
    "Question: How would you find the maximum value from the\n",
    "following list?"
   ]
  },
  {
   "cell_type": "code",
   "execution_count": 2,
   "id": "95df7d21-891a-4ba5-8fc0-f154f2c3644a",
   "metadata": {},
   "outputs": [
    {
     "name": "stdout",
     "output_type": "stream",
     "text": [
      "9\n"
     ]
    }
   ],
   "source": [
    "Num = [3, 7, 2, 9, 4]\n",
    "max_value = max(Num) # MAX Is used to find maximum value\n",
    "print(max_value) "
   ]
  },
  {
   "cell_type": "markdown",
   "id": "f07b9875-fc91-4cf8-bf20-1e527a37ddb5",
   "metadata": {},
   "source": [
    "Question: How would you combine the following list of strings into\n",
    "a single string?"
   ]
  },
  {
   "cell_type": "code",
   "execution_count": 5,
   "id": "6a45eced-be4a-4dac-82ce-687ced94e530",
   "metadata": {},
   "outputs": [
    {
     "name": "stdout",
     "output_type": "stream",
     "text": [
      "apple,banana,cherry\n"
     ]
    }
   ],
   "source": [
    "List = [\"apple\", \"banana\", \"cherry\"]\n",
    "result = ','.join(List) # Join is used to combine a list of strings into a single string\n",
    "print(result)"
   ]
  },
  {
   "cell_type": "markdown",
   "id": "f1d3a863-b118-4101-aaad-168dc9b78f9e",
   "metadata": {},
   "source": [
    "3. Scenario: You have a dictionary where the keys are names and the\n",
    "values are ages. You need to retrieve the age of a specific person.\n",
    "a. Question: How would you get the age of \"Dev\" from the following\n",
    "dictionary?\n"
   ]
  },
  {
   "cell_type": "code",
   "execution_count": 14,
   "id": "05c84542-576b-474e-8f5e-fb212f1378f9",
   "metadata": {},
   "outputs": [
    {
     "name": "stdout",
     "output_type": "stream",
     "text": [
      "40\n"
     ]
    }
   ],
   "source": [
    "ages = {\"Alice\": 30, \"Bob\": 25, \"Dev\": 40}\n",
    "age_of_dev = ages[\"Dev\"]\n",
    "print(age_of_dev)"
   ]
  },
  {
   "cell_type": "markdown",
   "id": "0543e9a7-5acc-4a79-be78-b9a042050a56",
   "metadata": {},
   "source": [
    ". Scenario: You need to remove duplicate elements from a list while\n",
    "preserving the original order of elements.\n",
    "a. Question: How would you remove duplicates from the following\n",
    "list?"
   ]
  },
  {
   "cell_type": "code",
   "execution_count": 16,
   "id": "69064878-f296-4e25-aac9-83ba695c14c3",
   "metadata": {},
   "outputs": [
    {
     "data": {
      "text/plain": [
       "[1, 2, 2, 3, 4, 4, 5]"
      ]
     },
     "execution_count": 16,
     "metadata": {},
     "output_type": "execute_result"
    }
   ],
   "source": [
    "original_list = [1, 2, 2, 3, 4, 4, 5]\n",
    "original_list"
   ]
  },
  {
   "cell_type": "code",
   "execution_count": 20,
   "id": "0c554792-d49d-48b8-8a6a-d89bd49e76af",
   "metadata": {},
   "outputs": [],
   "source": [
    "original_list.remove(4)"
   ]
  },
  {
   "cell_type": "code",
   "execution_count": 22,
   "id": "f889a9b6-23ef-42df-a75a-936dfeef4aae",
   "metadata": {},
   "outputs": [
    {
     "data": {
      "text/plain": [
       "[1, 2, 2, 3, 4, 5]"
      ]
     },
     "execution_count": 22,
     "metadata": {},
     "output_type": "execute_result"
    }
   ],
   "source": [
    "original_list"
   ]
  },
  {
   "cell_type": "markdown",
   "id": "7a5a5391-d1a8-4ffa-8540-d93a68781101",
   "metadata": {},
   "source": [
    "Scenario: You have a NumPy array and need to compute the sum of all\n",
    "its elements.\n",
    "a. Question: How would you find the sum of elements in the\n",
    "following NumPy array?"
   ]
  },
  {
   "cell_type": "code",
   "execution_count": 25,
   "id": "0c9259bb-e3e1-4466-a876-8262f3088926",
   "metadata": {},
   "outputs": [],
   "source": [
    "import numpy as np"
   ]
  },
  {
   "cell_type": "code",
   "execution_count": 27,
   "id": "4d1f46cc-7bd8-4963-b337-44ed9f6e452d",
   "metadata": {},
   "outputs": [
    {
     "name": "stdout",
     "output_type": "stream",
     "text": [
      "15\n"
     ]
    }
   ],
   "source": [
    "array = np.array([1, 2, 3, 4, 5])\n",
    "\n",
    "total_sum = np.sum(array)\n",
    "\n",
    "print(total_sum)"
   ]
  },
  {
   "cell_type": "markdown",
   "id": "e9220091-0c8f-4a8c-9f43-d28aed2fe5ba",
   "metadata": {},
   "source": [
    "Scenario: You have a 2D NumPy array and need to get the maximum\n",
    "value from each column.\n",
    "a. Question: How would you find the maximum values for each\n",
    "column in the following array?"
   ]
  },
  {
   "cell_type": "code",
   "execution_count": 30,
   "id": "de0edb0f-f189-45ba-85f7-193ede69569f",
   "metadata": {},
   "outputs": [
    {
     "name": "stdout",
     "output_type": "stream",
     "text": [
      "[3 6 9]\n"
     ]
    }
   ],
   "source": [
    "import numpy as np\n",
    "\n",
    "# Example 2D NumPy array\n",
    "array = np.array([[1, 4, 7],\n",
    "                  [2, 5, 8],\n",
    "                  [3, 6, 9]])\n",
    "\n",
    "# Compute the maximum values for each column\n",
    "max_values = np.max(array, axis=0)\n",
    "\n",
    "print(max_values)"
   ]
  },
  {
   "cell_type": "markdown",
   "id": "e3b60071-56f7-4c93-8438-e5663703da63",
   "metadata": {},
   "source": [
    "Scenario: You have a DataFrame and need to sort it by a specific column.\n",
    "a. Question: How would you sort the DataFrame by the \"Age\"\n",
    "column?\n"
   ]
  },
  {
   "cell_type": "code",
   "execution_count": 35,
   "id": "ed186e8b-d520-44e2-979b-4e1e12303f53",
   "metadata": {},
   "outputs": [],
   "source": [
    "import pandas as pd\n"
   ]
  },
  {
   "cell_type": "markdown",
   "id": "bd2fff9a-9ca8-4dcf-b47b-b9066165236f",
   "metadata": {},
   "source": [
    "\n",
    "# Assuming you have a DataFrame named df\n",
    "# df = pd.DataFrame(...)\n",
    "\n",
    "# Sort the DataFrame by the \"Age\" column\n",
    "df_sorted = df.sort_values(by='Age')\n",
    "\n",
    "# If you want to sort in descending order, add the argument ascending=False\n",
    "# df_sorted = df.sort_values(by='Age', ascending=False)\n",
    "\n",
    "# Print the sorted DataFrame\n",
    "print(df_sorted)"
   ]
  },
  {
   "cell_type": "code",
   "execution_count": 39,
   "id": "6c7a2acf-3005-4808-9583-de7891940f8f",
   "metadata": {},
   "outputs": [
    {
     "name": "stdout",
     "output_type": "stream",
     "text": [
      "Original DataFrame:\n",
      "      Name  Age         City\n",
      "0    Alice   25     New York\n",
      "1      Bob   32  Los Angeles\n",
      "2  Charlie   23      Chicago\n",
      "3    David   45      Houston\n",
      "4      Eve   29      Phoenix\n",
      "\n",
      "Sorted DataFrame by Age (ascending):\n",
      "      Name  Age         City\n",
      "2  Charlie   23      Chicago\n",
      "0    Alice   25     New York\n",
      "4      Eve   29      Phoenix\n",
      "1      Bob   32  Los Angeles\n",
      "3    David   45      Houston\n",
      "\n",
      "Sorted DataFrame by Age (descending):\n",
      "      Name  Age         City\n",
      "3    David   45      Houston\n",
      "1      Bob   32  Los Angeles\n",
      "4      Eve   29      Phoenix\n",
      "0    Alice   25     New York\n",
      "2  Charlie   23      Chicago\n"
     ]
    }
   ],
   "source": [
    "import pandas as pd\n",
    "\n",
    "# Create a sample DataFrame\n",
    "data = {\n",
    "    'Name': ['Alice', 'Bob', 'Charlie', 'David', 'Eve'],\n",
    "    'Age': [25, 32, 23, 45, 29],\n",
    "    'City': ['New York', 'Los Angeles', 'Chicago', 'Houston', 'Phoenix']\n",
    "}\n",
    "\n",
    "df = pd.DataFrame(data)\n",
    "\n",
    "# Sort the DataFrame by the \"Age\" column in ascending order\n",
    "df_sorted = df.sort_values(by='Age')\n",
    "\n",
    "# Print the original and sorted DataFrame\n",
    "print(\"Original DataFrame:\")\n",
    "print(df)\n",
    "\n",
    "print(\"\\nSorted DataFrame by Age (ascending):\")\n",
    "print(df_sorted)\n",
    "\n",
    "# If you want to sort in descending order, you can do:\n",
    "df_sorted_desc = df.sort_values(by='Age', ascending=False)\n",
    "\n",
    "print(\"\\nSorted DataFrame by Age (descending):\")\n",
    "print(df_sorted_desc)"
   ]
  },
  {
   "cell_type": "markdown",
   "id": "0e318609-e88e-45c9-ab2a-48447b805143",
   "metadata": {},
   "source": [
    "i am suprised but this is how it came."
   ]
  },
  {
   "cell_type": "markdown",
   "id": "cd433241-3614-49ee-9b73-fca37057faef",
   "metadata": {},
   "source": [
    "Scenario: You need to calculate the total sum of a column in a\n",
    "DataFrame.\n",
    "a. Question: How would you find the sum of the \"Sales\" column?\n"
   ]
  },
  {
   "cell_type": "code",
   "execution_count": 42,
   "id": "0fcb88c9-0ae2-450c-b570-f2dee2759ea2",
   "metadata": {},
   "outputs": [
    {
     "name": "stdout",
     "output_type": "stream",
     "text": [
      "Total Sales: 8500\n"
     ]
    }
   ],
   "source": [
    "data = {\n",
    "    'Product': ['Product A', 'Product B', 'Product C', 'Product D'],\n",
    "    'Sales': [1500, 2300, 1800, 2900]\n",
    "}\n",
    "\n",
    "df = pd.DataFrame(data)\n",
    "\n",
    "# Calculate the sum of the \"Sales\" column found it on web\n",
    "total_sales = df['Sales'].sum()\n",
    "\n",
    "# Print the result\n",
    "print(f\"Total Sales: {total_sales}\")"
   ]
  },
  {
   "cell_type": "markdown",
   "id": "b9c03823-b15c-4657-af91-22c8e1646f5c",
   "metadata": {},
   "source": [
    "Scenario: You need to check if a variable is of type int.\n",
    "a. Question: How would you verify if a variable x is an integer?"
   ]
  },
  {
   "cell_type": "code",
   "execution_count": 45,
   "id": "7b2360b0-fb4c-41e9-9e62-0d62ebfdd9ef",
   "metadata": {},
   "outputs": [
    {
     "name": "stdout",
     "output_type": "stream",
     "text": [
      "x is an integer\n"
     ]
    }
   ],
   "source": [
    "x = 42\n",
    "\n",
    "\n",
    "if isinstance(x, int): # found it on web\n",
    "    print(\"x is an integer\")\n",
    "else:\n",
    "    print(\"x is not an integer\")"
   ]
  },
  {
   "cell_type": "markdown",
   "id": "09a059a0-f779-4479-a38f-13626aaa6d2f",
   "metadata": {},
   "source": [
    "0.Scenario: You have a list of mixed types and need to create separate lists\n",
    "for integers, floats, and strings.\n",
    "a. Question: How would you categorize the following mixed list into\n",
    "different types?"
   ]
  },
  {
   "cell_type": "code",
   "execution_count": 48,
   "id": "f5a0ce44-7497-48c9-bf00-28330a4894d4",
   "metadata": {},
   "outputs": [
    {
     "name": "stdout",
     "output_type": "stream",
     "text": [
      "Integers: [1, 3, 7]\n",
      "Floats: [2.5, 4.0]\n",
      "Strings: ['hello', 'world']\n"
     ]
    }
   ],
   "source": [
    "mixed_list = [1, 2.5, 'hello', 3, 4.0, 'world', 7]\n",
    "\n",
    "integers = []\n",
    "floats = []\n",
    "strings = []\n",
    "\n",
    "for item in mixed_list:\n",
    "    if isinstance(item, int):\n",
    "        integers.append(item)\n",
    "    elif isinstance(item, float):\n",
    "        floats.append(item)\n",
    "    elif isinstance(item, str):\n",
    "        strings.append(item)\n",
    "\n",
    "print(\"Integers:\", integers)\n",
    "print(\"Floats:\", floats)\n",
    "print(\"Strings:\", strings)"
   ]
  },
  {
   "cell_type": "markdown",
   "id": "a557da18-9265-4392-8111-35425d36356e",
   "metadata": {},
   "source": [
    "Scenario: You are given a string of comma-separated numbers. You\n",
    "need to convert this string into a list of integers.\n",
    "a. Question: How would you achieve this conversion?"
   ]
  },
  {
   "cell_type": "code",
   "execution_count": 50,
   "id": "1d43ccf7-87ba-4e74-8b38-c51be3256f3d",
   "metadata": {},
   "outputs": [
    {
     "name": "stdout",
     "output_type": "stream",
     "text": [
      "[1, 2, 3, 4, 5]\n"
     ]
    }
   ],
   "source": [
    "numbers_string = \"1,2,3,4,5\"\n",
    "\n",
    "# Step 1: Split the string into a list of substrings\n",
    "numbers_list = numbers_string.split(',')\n",
    "\n",
    "# Step 2: Convert each substring to an integer\n",
    "integers_list = [int(num) for num in numbers_list]\n",
    "\n",
    "print(integers_list)"
   ]
  },
  {
   "cell_type": "markdown",
   "id": "95033800-e535-4f0a-b595-19464c659a8f",
   "metadata": {},
   "source": [
    ".Scenario: You need to reverse the words in a sentence while keeping the\n",
    "order of the words intact.\n",
    "a. Question: How would you reverse each word in the following\n",
    "sentence?\n"
   ]
  },
  {
   "cell_type": "code",
   "execution_count": 53,
   "id": "f18bc01c-f4f4-4d04-aad4-f444a68e3f08",
   "metadata": {},
   "outputs": [
    {
     "name": "stdout",
     "output_type": "stream",
     "text": [
      "olleH dlrow siht si a tset\n"
     ]
    }
   ],
   "source": [
    "sentence = \"Hello world this is a test\"\n",
    "\n",
    "# Step 1: Split the sentence into a list of words\n",
    "words = sentence.split()\n",
    "\n",
    "# Step 2: Reverse each word in the list\n",
    "reversed_words = [word[::-1] for word in words]\n",
    "\n",
    "# Step 3: Join the reversed words back into a single string\n",
    "reversed_sentence = ' '.join(reversed_words)\n",
    "\n",
    "print(reversed_sentence)"
   ]
  },
  {
   "cell_type": "markdown",
   "id": "46c00e8f-089b-405c-ab7f-dfc9d9bf9df1",
   "metadata": {},
   "source": [
    "3.Scenario: You need to combine two lists into a dictionary where the\n",
    "elements of the first list are keys and the elements of the second list are\n",
    "values.\n",
    "a. Question: How would you combine the following lists into a\n",
    "dictionary?\n"
   ]
  },
  {
   "cell_type": "code",
   "execution_count": 56,
   "id": "6b193a96-6058-4fb0-9326-217103c7109c",
   "metadata": {},
   "outputs": [
    {
     "name": "stdout",
     "output_type": "stream",
     "text": [
      "{'a': 1, 'b': 2, 'c': 3, 'd': 4}\n"
     ]
    }
   ],
   "source": [
    "keys = ['a', 'b', 'c', 'd']\n",
    "values = [1, 2, 3, 4]\n",
    "\n",
    "# Step 1: Use the zip() function to pair the elements from both lists\n",
    "zipped = zip(keys, values)\n",
    "\n",
    "# Step 2: Convert the zipped object into a dictionary\n",
    "combined_dict = dict(zipped)\n",
    "\n",
    "print(combined_dict) # used google to fiure out the command"
   ]
  },
  {
   "cell_type": "markdown",
   "id": "9dac803c-6c8c-409f-9a4d-ea6d5bc5e731",
   "metadata": {},
   "source": [
    "Scenario: You are given a list of tuples where each tuple contains a name\n",
    "and an age. You need to sort this list by age.\n",
    "a. Question: How would you sort the following list of tuples by age?"
   ]
  },
  {
   "cell_type": "code",
   "execution_count": 60,
   "id": "9d8fbae3-2a8f-4d60-b3d7-4d029c208afe",
   "metadata": {},
   "outputs": [
    {
     "name": "stdout",
     "output_type": "stream",
     "text": [
      "[('David', 20), ('Bob', 25), ('Alice', 30), ('Charlie', 35)]\n"
     ]
    }
   ],
   "source": [
    "people = [('Alice', 30), ('Bob', 25), ('Charlie', 35), ('David', 20)]\n",
    "\n",
    "# Sort the list by age (second element of each tuple)\n",
    "sorted_people = sorted(people, key=lambda x: x[1]) #found this function through google\n",
    "\n",
    "print(sorted_people)"
   ]
  },
  {
   "cell_type": "markdown",
   "id": "efb294fb-9609-41b7-b1b6-9e817cb938b5",
   "metadata": {},
   "source": [
    "5.Scenario: You have a 2D NumPy array and need to calculate the mean\n",
    "value of each row.\n",
    "a. Question: How would you compute the mean value for each row\n",
    "in the following array?"
   ]
  },
  {
   "cell_type": "code",
   "execution_count": 63,
   "id": "340e0ee4-919e-473a-829a-7496e5b6ab1d",
   "metadata": {},
   "outputs": [
    {
     "name": "stdout",
     "output_type": "stream",
     "text": [
      "[2. 5. 8.]\n"
     ]
    }
   ],
   "source": [
    "import numpy as np\n",
    "\n",
    "array = np.array([[1, 2, 3], [4, 5, 6], [7, 8, 9]])\n",
    "\n",
    "# Compute the mean value for each row\n",
    "row_means = np.mean(array, axis=1) #used google to find this function\n",
    "\n",
    "print(row_means)"
   ]
  },
  {
   "cell_type": "markdown",
   "id": "18054e2e-95c2-4c89-980d-c1d1fd02f50c",
   "metadata": {},
   "source": [
    ".Scenario: You need to create a NumPy array of size 10 filled with zeros,\n",
    "and then set the fifth element to 5.\n",
    "a. Question: How would you create and modify the array as\n",
    "described?\n"
   ]
  },
  {
   "cell_type": "markdown",
   "id": "a9e88170-fa17-4e6b-9337-b1a2a451147b",
   "metadata": {},
   "source": [
    "? ran multiple codes still not working"
   ]
  },
  {
   "cell_type": "markdown",
   "id": "644b4bb2-9d5f-4466-ba16-8bb0c9183c6e",
   "metadata": {},
   "source": [
    "7.Scenario: You have a DataFrame and need to find the median of a\n",
    "numeric column.\n",
    "a. Question: How would you find the median of the \"Scores\" column\n",
    "in the following DataFrame?"
   ]
  },
  {
   "cell_type": "code",
   "execution_count": 72,
   "id": "9cc16c84-1142-4af4-aed5-ff7f32f31de2",
   "metadata": {},
   "outputs": [
    {
     "name": "stdout",
     "output_type": "stream",
     "text": [
      "88.0\n"
     ]
    }
   ],
   "source": [
    "import pandas as pd\n",
    "\n",
    "data = {'Name': ['Alice', 'Bob', 'Charlie', 'David', 'Eva'],\n",
    "        'Scores': [85, 90, 78, 92, 88]}\n",
    "\n",
    "df = pd.DataFrame(data)\n",
    "\n",
    "# Step 1: Access the \"Scores\" column\n",
    "scores_column = df['Scores']\n",
    "\n",
    "# Step 2: Find the median of the \"Scores\" column\n",
    "median_score = scores_column.median()\n",
    "\n",
    "print(median_score) # used google for help"
   ]
  },
  {
   "cell_type": "markdown",
   "id": "27c7904b-e880-408c-933b-928cdd12f53a",
   "metadata": {},
   "source": [
    "Scenario: You need to filter rows where the value in the \"Sales\" column\n",
    "is above 100 and then sort these rows by \"Date\" in descending order.\n",
    "a. Question: How would you filter and sort the DataFrame based on\n",
    "the given criteria?"
   ]
  },
  {
   "cell_type": "code",
   "execution_count": 75,
   "id": "57960c9d-38ba-4b5e-b2d5-02decead2069",
   "metadata": {},
   "outputs": [
    {
     "name": "stdout",
     "output_type": "stream",
     "text": [
      "         Date  Sales\n",
      "4  2024-08-05    130\n",
      "3  2024-08-04    150\n",
      "1  2024-08-02    110\n"
     ]
    }
   ],
   "source": [
    "data = {'Date': ['2024-08-01', '2024-08-02', '2024-08-03', '2024-08-04', '2024-08-05'],\n",
    "        'Sales': [95, 110, 85, 150, 130]}\n",
    "\n",
    "df = pd.DataFrame(data)\n",
    "\n",
    "# Step 1: Filter rows where \"Sales\" is above 100\n",
    "filtered_df = df[df['Sales'] > 100]\n",
    "\n",
    "# Step 2: Sort the filtered DataFrame by \"Date\" in descending order\n",
    "sorted_df = filtered_df.sort_values(by='Date', ascending=False)\n",
    "\n",
    "print(sorted_df)"
   ]
  },
  {
   "cell_type": "markdown",
   "id": "af2a6701-2142-45cb-9f8f-70f964c4bb84",
   "metadata": {},
   "source": [
    "\n",
    "Scenario: You have a string containing a number and need to convert it\n",
    "to an integer. Additionally, handle the case where the string might not\n",
    "represent a valid integer.\n",
    "a. Question: How would you safely convert the string \"42\" to an\n",
    "integer and handle invalid cases?\n"
   ]
  },
  {
   "cell_type": "markdown",
   "id": "1f93b8c7-3d38-4004-9fd5-1f8aae50dedd",
   "metadata": {},
   "source": [
    "ran multiple codes still can't figure it out"
   ]
  },
  {
   "cell_type": "markdown",
   "id": "3f503ca7-0003-421d-80e4-5bbb26fdc9ff",
   "metadata": {},
   "source": [
    ".Scenario: You have a list containing different data types, and you want\n",
    "to separate out all the strings.\n",
    "a. Question: How would you extract all string elements from the\n",
    "following list?"
   ]
  },
  {
   "cell_type": "code",
   "execution_count": 80,
   "id": "ac319bc4-c15f-4659-bc6a-2a40faf7f070",
   "metadata": {},
   "outputs": [
    {
     "name": "stdout",
     "output_type": "stream",
     "text": [
      "['hello', 'world', 'example']\n"
     ]
    }
   ],
   "source": [
    "mixed_list = [1, \"hello\", 3.14, \"world\", 42, True, \"example\"]\n",
    "\n",
    "# Extract all string elements\n",
    "strings_list = [item for item in mixed_list if isinstance(item, str)]\n",
    "\n",
    "print(strings_list) #used google and notes for the command"
   ]
  },
  {
   "cell_type": "code",
   "execution_count": null,
   "id": "f00c1080-51a0-4140-9d7b-cbf98a1eb35c",
   "metadata": {},
   "outputs": [],
   "source": []
  }
 ],
 "metadata": {
  "kernelspec": {
   "display_name": "Python 3 (ipykernel)",
   "language": "python",
   "name": "python3"
  },
  "language_info": {
   "codemirror_mode": {
    "name": "ipython",
    "version": 3
   },
   "file_extension": ".py",
   "mimetype": "text/x-python",
   "name": "python",
   "nbconvert_exporter": "python",
   "pygments_lexer": "ipython3",
   "version": "3.12.4"
  }
 },
 "nbformat": 4,
 "nbformat_minor": 5
}
