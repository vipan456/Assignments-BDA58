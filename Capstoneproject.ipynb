{
 "cells": [
  {
   "cell_type": "markdown",
   "id": "3c2323a1-5c28-4959-b541-0bc42f166a19",
   "metadata": {},
   "source": [
    "### Data Acquisition and Preprocessing\n",
    "    1. Load the data and inspect the quality \n",
    "    2.  For this we are going to use pandas to load the dataset and inspect it for any issues "
   ]
  },
  {
   "cell_type": "code",
   "execution_count": 7,
   "id": "017ea851-5aa8-41fb-afd8-dfb162fd4d7f",
   "metadata": {},
   "outputs": [
    {
     "ename": "NameError",
     "evalue": "name 'capstoneCLvfinals' is not defined",
     "output_type": "error",
     "traceback": [
      "\u001b[1;31m---------------------------------------------------------------------------\u001b[0m",
      "\u001b[1;31mNameError\u001b[0m                                 Traceback (most recent call last)",
      "Cell \u001b[1;32mIn[7], line 3\u001b[0m\n\u001b[0;32m      1\u001b[0m \u001b[38;5;28;01mimport\u001b[39;00m \u001b[38;5;21;01mpandas\u001b[39;00m \u001b[38;5;28;01mas\u001b[39;00m \u001b[38;5;21;01mpd\u001b[39;00m \n\u001b[0;32m      2\u001b[0m  \u001b[38;5;66;03m# since it is in the same folder so we can load the data as follows \u001b[39;00m\n\u001b[1;32m----> 3\u001b[0m data\u001b[38;5;241m=\u001b[39m pd\u001b[38;5;241m.\u001b[39mread_csv(capstoneCLvfinals\u001b[38;5;241m.\u001b[39mcsv)\n\u001b[0;32m      4\u001b[0m data\n",
      "\u001b[1;31mNameError\u001b[0m: name 'capstoneCLvfinals' is not defined"
     ]
    }
   ],
   "source": [
    "import pandas as pd \n",
    " # since it is in the same folder so we can load the data as follows \n",
    "data= pd.read_csv(capstoneCLvfinals.csv)\n",
    "data"
   ]
  },
  {
   "cell_type": "code",
   "execution_count": null,
   "id": "de62b98f-2f07-4323-972a-07197b981a4c",
   "metadata": {},
   "outputs": [],
   "source": []
  }
 ],
 "metadata": {
  "kernelspec": {
   "display_name": "Python 3 (ipykernel)",
   "language": "python",
   "name": "python3"
  },
  "language_info": {
   "codemirror_mode": {
    "name": "ipython",
    "version": 3
   },
   "file_extension": ".py",
   "mimetype": "text/x-python",
   "name": "python",
   "nbconvert_exporter": "python",
   "pygments_lexer": "ipython3",
   "version": "3.12.4"
  }
 },
 "nbformat": 4,
 "nbformat_minor": 5
}
